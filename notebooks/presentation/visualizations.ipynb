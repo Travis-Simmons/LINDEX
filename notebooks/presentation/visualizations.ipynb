{
 "cells": [
  {
   "cell_type": "code",
   "execution_count": 7,
   "metadata": {},
   "outputs": [],
   "source": [
    "def function_1():\n",
    "    print('f1')\n",
    "\n",
    "def function_2():\n",
    "    print('f2')\n",
    "\n",
    "function_dict = {\n",
    "    'funct1': function_1,\n",
    "    'funct2': function_2\n",
    "}"
   ]
  },
  {
   "cell_type": "code",
   "execution_count": 8,
   "metadata": {},
   "outputs": [
    {
     "name": "stdout",
     "output_type": "stream",
     "text": [
      "f2\n"
     ]
    }
   ],
   "source": [
    "function_dict['funct2']()"
   ]
  },
  {
   "cell_type": "code",
   "execution_count": 10,
   "metadata": {},
   "outputs": [
    {
     "name": "stdout",
     "output_type": "stream",
     "text": [
      "f2\n"
     ]
    }
   ],
   "source": [
    "def function_1():\n",
    "    print('f1')\n",
    "\n",
    "def function_2():\n",
    "    print('f2')\n",
    "\n",
    "function_dict = {\n",
    "    'funct1': function_1,\n",
    "    'funct2': function_2\n",
    "}\n",
    "\n",
    "\n",
    "def main():\n",
    "   function_dict['funct2']()\n",
    "# --------------------------------------------------\n",
    "if __name__ == '__main__':\n",
    "    main()"
   ]
  },
  {
   "cell_type": "code",
   "execution_count": null,
   "metadata": {},
   "outputs": [],
   "source": [
    "check if arg is a key"
   ]
  }
 ],
 "metadata": {
  "interpreter": {
   "hash": "c348afdcda8c9ba39f454445c0645c776624ec52ad2cbfdee6cc56cf551be063"
  },
  "kernelspec": {
   "display_name": "Python 3.7.6 64-bit ('base': conda)",
   "language": "python",
   "name": "python3"
  },
  "language_info": {
   "codemirror_mode": {
    "name": "ipython",
    "version": 3
   },
   "file_extension": ".py",
   "mimetype": "text/x-python",
   "name": "python",
   "nbconvert_exporter": "python",
   "pygments_lexer": "ipython3",
   "version": "3.7.6"
  },
  "orig_nbformat": 4
 },
 "nbformat": 4,
 "nbformat_minor": 2
}
